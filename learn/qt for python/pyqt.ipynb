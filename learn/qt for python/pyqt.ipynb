{
 "cells": [
  {
   "metadata": {},
   "cell_type": "markdown",
   "source": "用pyside6",
   "id": "3e83e12e7c25861a"
  },
  {
   "metadata": {},
   "cell_type": "markdown",
   "source": [
    "> QApplication 提供了整个图形界面程序的底层管理功能，\n",
    "> \n",
    "> 比如：初始化、程序入口参数的处理，用户事件（对界面的点击、输入、拖拽）分发给各个对应的控件，等等\n",
    "> \n",
    "> 因此 既然QApplication要做如此重要的初始化操作，所以，我们必须在任何界面控件对象创建前，先创建它。"
   ],
   "id": "44653b5d81078677"
  },
  {
   "metadata": {},
   "cell_type": "markdown",
   "source": "",
   "id": "602eb5c57b10d38a"
  },
  {
   "metadata": {
    "ExecuteTime": {
     "end_time": "2024-12-14T13:09:08.592942Z",
     "start_time": "2024-12-14T13:09:06.829161Z"
    }
   },
   "cell_type": "code",
   "source": [
    "from PySide6.QtWidgets import QApplication, QMainWindow, QPushButton,  QPlainTextEdit\n",
    "\n",
    "#\n",
    "app = QApplication()\n",
    "\n",
    "\n",
    "window = QMainWindow()\n",
    "window.resize(500, 400)\n",
    "window.move(300, 310)\n",
    "window.setWindowTitle('薪资统计')\n",
    "\n",
    "textEdit = QPlainTextEdit(window)\n",
    "textEdit.setPlaceholderText(\"请输入薪资表\")\n",
    "textEdit.move(10,25)\n",
    "textEdit.resize(300,350)\n",
    "\n",
    "button = QPushButton('统计', window)\n",
    "button.move(380,80)\n",
    "\n",
    "window.show()\n",
    "\n",
    "app.exec() # PySide6 是 exec 而不是 exec_"
   ],
   "id": "6009ae5a5ac85fa2",
   "outputs": [
    {
     "data": {
      "text/plain": [
       "0"
      ]
     },
     "execution_count": 1,
     "metadata": {},
     "output_type": "execute_result"
    }
   ],
   "execution_count": 1
  },
  {
   "metadata": {
    "ExecuteTime": {
     "end_time": "2024-12-14T11:22:35.722321Z",
     "start_time": "2024-12-14T11:21:49.250067Z"
    }
   },
   "cell_type": "code",
   "source": [
    "from PySide6.QtWidgets import QApplication, QMainWindow, QPushButton,  QPlainTextEdit,QMessageBox\n",
    "\n",
    "def handleCalc():\n",
    "    info = textEdit.toPlainText()\n",
    "\n",
    "    # 薪资20000 以上 和 以下 的人员名单\n",
    "    salary_above_20k = ''\n",
    "    salary_below_20k = ''\n",
    "    for line in info.splitlines():\n",
    "        if not line.strip():\n",
    "            continue\n",
    "        parts = line.split(' ')\n",
    "        # 去掉列表中的空字符串内容\n",
    "        parts = [p for p in parts if p]\n",
    "        name,salary,age = parts\n",
    "        if int(salary) >= 20000:\n",
    "            salary_above_20k += name + '\\n'\n",
    "        else:\n",
    "            salary_below_20k += name + '\\n'\n",
    "\n",
    "    QMessageBox.about(window,\n",
    "                '统计结果',\n",
    "                f'''薪资20000 以上的有：\\n{salary_above_20k}\n",
    "                \\n薪资20000 以下的有：\\n{salary_below_20k}'''\n",
    "                )\n",
    "\n",
    "app = QApplication()\n",
    "\n",
    "window = QMainWindow()\n",
    "window.resize(500, 400)\n",
    "window.move(300, 300)\n",
    "window.setWindowTitle('薪资统计')\n",
    "\n",
    "textEdit = QPlainTextEdit(window)\n",
    "textEdit.setPlaceholderText(\"请输入薪资表\")\n",
    "textEdit.move(10,25)\n",
    "textEdit.resize(300,350)\n",
    "\n",
    "button = QPushButton('统计', window)\n",
    "button.move(380,80)\n",
    "button.clicked.connect(handleCalc)\n",
    "\n",
    "window.show()\n",
    "\n",
    "app.exec()"
   ],
   "id": "e7a1f131ec49d692",
   "outputs": [
    {
     "data": {
      "text/plain": [
       "0"
      ]
     },
     "execution_count": 1,
     "metadata": {},
     "output_type": "execute_result"
    }
   ],
   "execution_count": 1
  },
  {
   "metadata": {},
   "cell_type": "markdown",
   "source": [
    "封装到类\n",
    "\n",
    "上面的代码把控件对应的变量名全部作为全局变量。\n",
    "\n",
    "如果要设计稍微复杂一些的程序，就会出现太多的控件对应的变量名。\n",
    "\n",
    "而且这样也不利于 代码的模块化。\n",
    "\n",
    "所以，我们通常应该把 一个窗口和其包含的控件，对应的代码 全部封装到类中，如下所示"
   ],
   "id": "21051034a8c1ee65"
  },
  {
   "metadata": {
    "ExecuteTime": {
     "end_time": "2024-12-14T11:24:20.790512Z",
     "start_time": "2024-12-14T11:24:14.948409Z"
    }
   },
   "cell_type": "code",
   "source": [
    "from PySide6.QtWidgets import QApplication, QMainWindow, QPushButton,  QPlainTextEdit,QMessageBox\n",
    "\n",
    "class Stats:\n",
    "    def __init__(self):\n",
    "        self.window = QMainWindow()\n",
    "        self.window.resize(500, 400)\n",
    "        self.window.move(300, 300)\n",
    "        self.window.setWindowTitle('薪资统计')\n",
    "\n",
    "        self.textEdit = QPlainTextEdit(self.window)\n",
    "        self.textEdit.setPlaceholderText(\"请输入薪资表\")\n",
    "        self.textEdit.move(10, 25)\n",
    "        self.textEdit.resize(300, 350)\n",
    "\n",
    "        self.button = QPushButton('统计', self.window)\n",
    "        self.button.move(380, 80)\n",
    "\n",
    "        self.button.clicked.connect(self.handleCalc)\n",
    "\n",
    "\n",
    "    def handleCalc(self):\n",
    "        info = self.textEdit.toPlainText()\n",
    "\n",
    "        # 薪资20000 以上 和 以下 的人员名单\n",
    "        salary_above_20k = ''\n",
    "        salary_below_20k = ''\n",
    "        for line in info.splitlines():\n",
    "            if not line.strip():\n",
    "                continue\n",
    "            parts = line.split(' ')\n",
    "            # 去掉列表中的空字符串内容\n",
    "            parts = [p for p in parts if p]\n",
    "            name,salary,age = parts\n",
    "            if int(salary) >= 20000:\n",
    "                salary_above_20k += name + '\\n'\n",
    "            else:\n",
    "                salary_below_20k += name + '\\n'\n",
    "\n",
    "        QMessageBox.about(self.window,\n",
    "                    '统计结果',\n",
    "                    f'''薪资20000 以上的有：\\n{salary_above_20k}\n",
    "                    \\n薪资20000 以下的有：\\n{salary_below_20k}'''\n",
    "                    )\n",
    "\n",
    "app = QApplication()\n",
    "stats = Stats()\n",
    "stats.window.show()\n",
    "app.exec()"
   ],
   "id": "60d3e7eb7ca31837",
   "outputs": [
    {
     "data": {
      "text/plain": [
       "0"
      ]
     },
     "execution_count": 1,
     "metadata": {},
     "output_type": "execute_result"
    }
   ],
   "execution_count": 1
  },
  {
   "metadata": {},
   "cell_type": "code",
   "outputs": [],
   "execution_count": null,
   "source": "",
   "id": "18cc912d127afdec"
  }
 ],
 "metadata": {
  "kernelspec": {
   "display_name": "Python 3",
   "language": "python",
   "name": "python3"
  },
  "language_info": {
   "codemirror_mode": {
    "name": "ipython",
    "version": 2
   },
   "file_extension": ".py",
   "mimetype": "text/x-python",
   "name": "python",
   "nbconvert_exporter": "python",
   "pygments_lexer": "ipython2",
   "version": "2.7.6"
  }
 },
 "nbformat": 4,
 "nbformat_minor": 5
}
