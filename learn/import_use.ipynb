{
 "cells": [
  {
   "metadata": {},
   "cell_type": "markdown",
   "source": [
    "# import 用法\n",
    "### 一. 直接引入"
   ],
   "id": "622d84c36f983b15"
  },
  {
   "cell_type": "code",
   "execution_count": null,
   "id": "initial_id",
   "metadata": {
    "collapsed": true
   },
   "outputs": [],
   "source": "import modulename [as alias]"
  },
  {
   "metadata": {},
   "cell_type": "markdown",
   "source": [
    "import 模块名，这时python可以引入以下两种模块； 举例如下：\n",
    "1. 我们安装好的模块；（其实就是在环境变量路径下的模块；）\n",
    "2. 运行文件所在目录下的文件；（这里我们推荐用 from. import 模块名的方式）"
   ],
   "id": "e088eeb87f59826b"
  },
  {
   "metadata": {},
   "cell_type": "markdown",
   "source": "### 二. from 模块/包 import 模块/函数",
   "id": "5358946a092ff14d"
  },
  {
   "metadata": {},
   "cell_type": "code",
   "outputs": [],
   "execution_count": null,
   "source": "from modelname import member",
   "id": "d2ba457a81d20881"
  },
  {
   "metadata": {},
   "cell_type": "markdown",
   "source": [
    "参数说明如下:\n",
    "\n",
    "modelname：模块名称，区分字母大小写，需要和定义模块时设置的模块名称的大小写保持致。\n",
    "\n",
    "member：用于指定要导入的变量、函数或者类等。可以同时导入多个定义，各个定义之间使用逗号“，”分隔。如果想导入全部定义，也可以使用通配符星号“*”代替。"
   ],
   "id": "71d71e34e14240eb"
  },
  {
   "metadata": {},
   "cell_type": "markdown",
   "source": [
    "#### 1. 直接引入模块\n",
    "import 模块名：这种方式引入模块时，使用模块内的函数，需要使用模块.函数名的方式来调用函数\n",
    "#### 2. 引入模块所有函数\n",
    "from 模块名 import * : 这种方式引入模块时，可以直接使用函数\n",
    "#### 3. 引入模块中的指定函数\n",
    "from 模块名 import 某个函数: 上面的方式引入了包内所有的函数，有时我们只会用其中一个或几个函数，这时候 我们可以使用以下方式： from random import random,randint\n",
    "#### 4. 相对引用\n",
    "有时我们需要引用当前py文件的父文件夹的模块，这时可以使用相对引用；（但是这种引用，当其他文件引用本py时，有报错风险； 只有在一个项目中的文件相互引用时，由于文件夹结构是固定的，所以推荐使用相对引用\n",
    "````\n",
    "d\n",
    "````"
   ],
   "id": "89ae41547cc9761d"
  },
  {
   "metadata": {},
   "cell_type": "code",
   "outputs": [],
   "execution_count": null,
   "source": " ",
   "id": "3c31c8fd8decbfb4"
  }
 ],
 "metadata": {
  "kernelspec": {
   "display_name": "Python 3",
   "language": "python",
   "name": "python3"
  },
  "language_info": {
   "codemirror_mode": {
    "name": "ipython",
    "version": 2
   },
   "file_extension": ".py",
   "mimetype": "text/x-python",
   "name": "python",
   "nbconvert_exporter": "python",
   "pygments_lexer": "ipython2",
   "version": "2.7.6"
  }
 },
 "nbformat": 4,
 "nbformat_minor": 5
}
