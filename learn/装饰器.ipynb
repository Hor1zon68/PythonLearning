{
 "cells": [
  {
   "metadata": {},
   "cell_type": "markdown",
   "source": "# 1.装饰器",
   "id": "7785c3d90c4e982e"
  },
  {
   "cell_type": "code",
   "id": "initial_id",
   "metadata": {
    "collapsed": true,
    "ExecuteTime": {
     "end_time": "2024-12-11T10:51:30.422236Z",
     "start_time": "2024-12-11T10:51:30.418133Z"
    }
   },
   "source": [
    "#定义一个装饰器函数，它接受一个函数作为参数并返回一个新的函数\n",
    "def decorator(func):\n",
    "    # 定义一个内部函数，它接受任意数量和类型的位置参数和关键字参数\n",
    "    def wrapper(*args, **kwargs):\n",
    "        # 在调用被装饰函数之前执行的代码\n",
    "        print(\"Before calling the function\")\n",
    "        # 调用被装饰函数，并保存其返回值\n",
    "        result = func(*args, **kwargs)\n",
    "        # 在调用被装饰函数之后执行的代码\n",
    "        print(\"After calling the function\")\n",
    "        # 返回被装饰函数的返回值\n",
    "        return result\n",
    "    # 返回内部函数，以便它可以被调用\n",
    "    return wrapper\n",
    " \n",
    "# 定义一个函数，并使用装饰器来增加其功能\n",
    "@decorator  #my_function = decorator（my_function）my_function是decorator函数的返回值（内部函数的函数名）\n",
    "def my_function(a, b):\n",
    "    # 模拟一个运算，并返回结果\n",
    "    result = a + b\n",
    "    return result\n",
    " \n",
    "# 调用被装饰函数\n",
    "print(my_function(1, 2))\n",
    " "
   ],
   "outputs": [
    {
     "name": "stdout",
     "output_type": "stream",
     "text": [
      "Before calling the function\n",
      "After calling the function\n",
      "3\n"
     ]
    }
   ],
   "execution_count": 2
  },
  {
   "metadata": {},
   "cell_type": "code",
   "outputs": [],
   "execution_count": null,
   "source": "",
   "id": "565dfb79d482a439"
  }
 ],
 "metadata": {
  "kernelspec": {
   "display_name": "Python 3",
   "language": "python",
   "name": "python3"
  },
  "language_info": {
   "codemirror_mode": {
    "name": "ipython",
    "version": 2
   },
   "file_extension": ".py",
   "mimetype": "text/x-python",
   "name": "python",
   "nbconvert_exporter": "python",
   "pygments_lexer": "ipython2",
   "version": "2.7.6"
  }
 },
 "nbformat": 4,
 "nbformat_minor": 5
}
